{
 "cells": [
  {
   "cell_type": "code",
   "execution_count": 1,
   "id": "3866f89a-3f09-4692-be0a-86bc95ccb0ac",
   "metadata": {
    "tags": []
   },
   "outputs": [],
   "source": [
    "# Import dependencies\n",
    "import subprocess\n",
    "import json\n",
    "import os\n",
    "from dotenv import load_dotenv"
   ]
  },
  {
   "cell_type": "code",
   "execution_count": 2,
   "id": "328e4d38-c1cf-45ee-a2f3-d218783df602",
   "metadata": {
    "tags": []
   },
   "outputs": [],
   "source": [
    "# Load and set environment variables\n",
    "load_dotenv()\n",
    "mnemonic = os.getenv(\"mnemonic\")"
   ]
  },
  {
   "cell_type": "code",
   "execution_count": 3,
   "id": "8bd6514d-16ae-4707-b9eb-8723ce5c3bde",
   "metadata": {
    "tags": []
   },
   "outputs": [],
   "source": [
    "# Import constants.py and necessary functions from bit and web3\n",
    "BTC = 'btc'\n",
    "ETH = 'eth'\n",
    "BTCTEST = 'btc-test'"
   ]
  },
  {
   "cell_type": "code",
   "execution_count": 4,
   "id": "9a8b43fb-7b3b-47e8-b453-550746e02120",
   "metadata": {
    "tags": []
   },
   "outputs": [],
   "source": [
    "# Create a function called `derive_wallets`\n",
    "def derive_wallets(coin):\n",
    "    command = f'php derive -g --mnemonic=mnemonic --cols=address,index,path,privkey,pubkey,pubkeyhash,xprv,xpub --numderive=3 --coin={coin} --format=json' #f at start so we can add variables in string\n",
    "    p = subprocess.Popen(command, stdout=subprocess.PIPE, shell=True)\n",
    "    output, err = p.communicate()\n",
    "    p_status = p.wait()\n",
    "    return json.loads(output)"
   ]
  },
  {
   "cell_type": "code",
   "execution_count": 5,
   "id": "43ec8447-6a0d-41f4-9e50-e945bdf9d138",
   "metadata": {},
   "outputs": [
    {
     "data": {
      "text/plain": [
       "[{'address': '0x3De0A2fD4A90f9A160ebb2B8711192D1F0eB339D',\n",
       "  'index': 0,\n",
       "  'path': \"m/44'/60'/0'/0/0\",\n",
       "  'privkey': '0x82d63adc8be924a92ef77c6e3286c4e80eaebad63ba2b91c27801a62ba2f9410',\n",
       "  'pubkey': '02c93d99b9686cabed081f1eb262b81a435ae2816ba940e0fea550a36603d8077b',\n",
       "  'pubkeyhash': 'a90e4da9a141168d3e0ac3821015190a79df729c',\n",
       "  'xprv': 'xprvA3W3uzhjas8mpZrqS7oW9ar2SWxLGhwcPFT7S2j7VM8e9PbaYcfSJo4aDdsjd7yi9iPcKkvxg7TzmeNJniz84Y4rYgTaarwiMk66gZNwj3P',\n",
       "  'xpub': 'xpub6GVQKWEdREh533wJY9LWWinkzYnpgAfTkUNiER8j3gfd2Bvj69ygrbP44uSWSEu9BwzQ2mboHQp17puXxT3y9xnXCt256vtjkzV2caX1xeT'},\n",
       " {'address': '0xc5557310a53b90f18E926431B1896c29Df0dcc1a',\n",
       "  'index': 1,\n",
       "  'path': \"m/44'/60'/0'/0/1\",\n",
       "  'privkey': '0xf0c147a367c5732f750e0dc072540f71ec3e3a87fafee9e7516982861e9e259e',\n",
       "  'pubkey': '0299b67384c634d60ac57d9efc57a93b3a2d87b9eb63e3025652de882c269f2480',\n",
       "  'pubkeyhash': '8703eefc2cdcf91b844d7ec8090d2e89d092de58',\n",
       "  'xprv': 'xprvA3W3uzhjas8msDSBJH94x7mqj53hfhCweGzWNRqsHamAi3MrZh4cDT4VywH5UH7UboqUbVazKeEn9gLy7TgeMbtWSuyYk852kBG75GZmB4r',\n",
       "  'xpub': 'xpub6GVQKWEdREh55hWeQJg5KFiaH6tC59vo1Vv7ApFUqvJ9aqh17ENrmFNyqBeWXxBLL8hxPeeUw4A8HfovbNetZcGkNj6p1VoJiDt4UJ3L9RU'},\n",
       " {'address': '0x926841419b49910D80fCEa75d587BE3aefFf560e',\n",
       "  'index': 2,\n",
       "  'path': \"m/44'/60'/0'/0/2\",\n",
       "  'privkey': '0x356c8dd425cf9714114bf73751c13d1ad34f4012e2ac37e564b0aaee238a0d2a',\n",
       "  'pubkey': '02fb003f8b9fd2e765b5c64b7f47832bc46ff818807e7903262c03a29d2b983f6a',\n",
       "  'pubkeyhash': '53c13c213c11034e676536944ec4f2cb5fb0b3c0',\n",
       "  'xprv': 'xprvA3W3uzhjas8mvbJ4eX1qKPXK7osvsQXSezDFvPW3dEpbJZ35xaJXxBdpPcrXDrqror7a2McmYr5HbL5Xiag834qfBkvhY5YvLKe3MPxFbch',\n",
       "  'xpub': 'xpub6GVQKWEdREh595NXkYYqgXU3fqiRGsFJ2D8rimufBaMaBMNEW7cnVyxJEuPJW5HNqmbaVUfxVVhvPxd4SmjitFxyEY2YJHeF2GXfz5Q8yRb'}]"
      ]
     },
     "execution_count": 5,
     "metadata": {},
     "output_type": "execute_result"
    }
   ],
   "source": [
    "# Test function\n",
    "derive_wallets(ETH)"
   ]
  },
  {
   "cell_type": "code",
   "execution_count": 6,
   "id": "029bed1d-4fe7-4e1a-aecd-5164f7882cc8",
   "metadata": {},
   "outputs": [
    {
     "name": "stdout",
     "output_type": "stream",
     "text": [
      "2021-08-16T15:01:31+02:00 [pid: 10112] [exception] -- #1: Exception. code: 0. Bip32 extended key path unknown because no Bip44 ID found for {coin}.  You can override by setting --path explicitly.\n",
      "\n",
      "C:\\Users\\miker\\wallet\\hd-wallet-derive\\hd-wallet-derive.php : 61\n",
      "\n",
      "Stack Trace:\n",
      "#0 C:\\Users\\miker\\wallet\\hd-wallet-derive\\hd-wallet-derive.php(83): main()\n",
      "#1 {main}\n",
      "\n",
      "\n"
     ]
    }
   ],
   "source": [
    "# Test lines of code\n",
    "command = 'php derive -g --mnemonic=mnemonic --cols=path,address,privkey,pubkey --numderive=3 --coin={coin} --format=json'\n",
    "p= subprocess.Popen(command, stdout=subprocess.PIPE, shell=True)\n",
    "output, err =p.communicate()\n",
    "p_status = p.wait()\n",
    "key_string = output.decode()\n",
    "\n",
    "print(output.decode())"
   ]
  },
  {
   "cell_type": "code",
   "execution_count": 7,
   "id": "ef721152-7ef0-43d2-94f1-32b5c07c2011",
   "metadata": {
    "tags": []
   },
   "outputs": [
    {
     "data": {
      "text/plain": [
       "{'btc-test': [{'address': 'mtgb9hthmFpY1zidrYmZ24eTF87aBA147h',\n",
       "   'index': 0,\n",
       "   'path': \"m/44'/1'/0'/0/0\",\n",
       "   'privkey': 'cVAgDoahzo5Ucdv8ioxxubvmE6LfU3ZQgJ21UvY4eC1xi6WkvnXe',\n",
       "   'pubkey': '0339b281b12687c70a024ef409229b55d404533b4e9a475dc9d3883c0172913fb6',\n",
       "   'pubkeyhash': '906c250da82c2bd3edf9bcbbbb29f2188065f9d2',\n",
       "   'xprv': 'tprv8kmimjp9GYq9EvcrxozEhxzk9jGwaC73BSiy3ATqwwikM4YgH7685zQLzX7xzXAmhXxf5LZbpbqtSGX3fcNFbfVJdxuEYPrA5tDRRQgwPRm',\n",
       "   'xpub': 'tpubDHTkv9rPQvWp8PeerTeq7NeriknsjXHwkkKkKgW9NDX9BYoSuVuiGV2DAejLNv85zVm31akUTVk6Z8MyhECbWDzQ3Qir4GoRCXfBgKk8GxA'},\n",
       "  {'address': 'mxwSU31v1NtbUi6Pc5bN9BgmmAGw13JdvX',\n",
       "   'index': 1,\n",
       "   'path': \"m/44'/1'/0'/0/1\",\n",
       "   'privkey': 'cRG5vrAkkq3ZkTmT2mmqCgbxd8niBdXx3ocDMd1771oSzJDvqXiC',\n",
       "   'pubkey': '02f4468eae06b195a4f83cc63d680d015d512af60288977e0283fd4299bfcde24b',\n",
       "   'pubkeyhash': 'bf1ba366dd65a4824c22f497bbff1fae89007841',\n",
       "   'xprv': 'tprv8kmimjp9GYq9FvSyaAKU2MY38GBpiMHEsjgMtnLaMhyZQPzAiEM6ZTC8z9vdTsJVRQDcoCvLeWEHiPWWLpiGMjoYcffLhXJXNbJawYjKTof',\n",
       "   'xpub': 'tpubDHTkv9rPQvWp9PUmToz4RmC9hHhksgU9T3H9BJNsmymxEtEwLdAgjwp1AHtm7kbkbHvsC3zA3cjHi6DAFtGCvFMgY961mo7mg5ABBu21126'},\n",
       "  {'address': 'n2QTqdWK96XyJ7o8LXqoCjNbmtrFNFbNb6',\n",
       "   'index': 2,\n",
       "   'path': \"m/44'/1'/0'/0/2\",\n",
       "   'privkey': 'cUMUWn4yukMK41LpebaCmnbH26XCQn9EDoSK753FxSNxQC77i5TU',\n",
       "   'pubkey': '03c486d31c700f8342f6dac13fffaab4d44c492637042659ae2922846c89077101',\n",
       "   'pubkeyhash': 'e5206464e15c29f28f54678782a909be5954f6cc',\n",
       "   'xprv': 'tprv8kmimjp9GYq9JExZDMjKjYhzHGQwQHVmMh2cRP5BLMAgCbw7fNgDssZJCujBDau2t2PEzddu8QApnrgnhzktN4LT8BXEM7HDSrxMHM6XasY',\n",
       "   'xpub': 'tpubDHTkv9rPQvWpBhzM71Pv8xN6rHvsZcgfvzdPhu7Ukcy536BtHmVp4NBAP4aP5Laycoz7Shaprf1xgAyBrZdGuoDWUFcrPc3UuiqRTBcQnxt'}],\n",
       " 'eth': [{'address': '0x3De0A2fD4A90f9A160ebb2B8711192D1F0eB339D',\n",
       "   'index': 0,\n",
       "   'path': \"m/44'/60'/0'/0/0\",\n",
       "   'privkey': '0x82d63adc8be924a92ef77c6e3286c4e80eaebad63ba2b91c27801a62ba2f9410',\n",
       "   'pubkey': '02c93d99b9686cabed081f1eb262b81a435ae2816ba940e0fea550a36603d8077b',\n",
       "   'pubkeyhash': 'a90e4da9a141168d3e0ac3821015190a79df729c',\n",
       "   'xprv': 'xprvA3W3uzhjas8mpZrqS7oW9ar2SWxLGhwcPFT7S2j7VM8e9PbaYcfSJo4aDdsjd7yi9iPcKkvxg7TzmeNJniz84Y4rYgTaarwiMk66gZNwj3P',\n",
       "   'xpub': 'xpub6GVQKWEdREh533wJY9LWWinkzYnpgAfTkUNiER8j3gfd2Bvj69ygrbP44uSWSEu9BwzQ2mboHQp17puXxT3y9xnXCt256vtjkzV2caX1xeT'},\n",
       "  {'address': '0xc5557310a53b90f18E926431B1896c29Df0dcc1a',\n",
       "   'index': 1,\n",
       "   'path': \"m/44'/60'/0'/0/1\",\n",
       "   'privkey': '0xf0c147a367c5732f750e0dc072540f71ec3e3a87fafee9e7516982861e9e259e',\n",
       "   'pubkey': '0299b67384c634d60ac57d9efc57a93b3a2d87b9eb63e3025652de882c269f2480',\n",
       "   'pubkeyhash': '8703eefc2cdcf91b844d7ec8090d2e89d092de58',\n",
       "   'xprv': 'xprvA3W3uzhjas8msDSBJH94x7mqj53hfhCweGzWNRqsHamAi3MrZh4cDT4VywH5UH7UboqUbVazKeEn9gLy7TgeMbtWSuyYk852kBG75GZmB4r',\n",
       "   'xpub': 'xpub6GVQKWEdREh55hWeQJg5KFiaH6tC59vo1Vv7ApFUqvJ9aqh17ENrmFNyqBeWXxBLL8hxPeeUw4A8HfovbNetZcGkNj6p1VoJiDt4UJ3L9RU'},\n",
       "  {'address': '0x926841419b49910D80fCEa75d587BE3aefFf560e',\n",
       "   'index': 2,\n",
       "   'path': \"m/44'/60'/0'/0/2\",\n",
       "   'privkey': '0x356c8dd425cf9714114bf73751c13d1ad34f4012e2ac37e564b0aaee238a0d2a',\n",
       "   'pubkey': '02fb003f8b9fd2e765b5c64b7f47832bc46ff818807e7903262c03a29d2b983f6a',\n",
       "   'pubkeyhash': '53c13c213c11034e676536944ec4f2cb5fb0b3c0',\n",
       "   'xprv': 'xprvA3W3uzhjas8mvbJ4eX1qKPXK7osvsQXSezDFvPW3dEpbJZ35xaJXxBdpPcrXDrqror7a2McmYr5HbL5Xiag834qfBkvhY5YvLKe3MPxFbch',\n",
       "   'xpub': 'xpub6GVQKWEdREh595NXkYYqgXU3fqiRGsFJ2D8rimufBaMaBMNEW7cnVyxJEuPJW5HNqmbaVUfxVVhvPxd4SmjitFxyEY2YJHeF2GXfz5Q8yRb'}]}"
      ]
     },
     "execution_count": 7,
     "metadata": {},
     "output_type": "execute_result"
    }
   ],
   "source": [
    "# Create a dictionary object called coins to store the output from `derive_wallets`.\n",
    "coins = {BTCTEST: derive_wallets(BTCTEST), ETH: derive_wallets(ETH)}\n",
    "coins"
   ]
  },
  {
   "cell_type": "code",
   "execution_count": 8,
   "id": "aa9b4a00-51b7-4e25-a319-f53c6e291e0f",
   "metadata": {},
   "outputs": [
    {
     "data": {
      "text/plain": [
       "'0x82d63adc8be924a92ef77c6e3286c4e80eaebad63ba2b91c27801a62ba2f9410'"
      ]
     },
     "execution_count": 8,
     "metadata": {},
     "output_type": "execute_result"
    }
   ],
   "source": [
    "# Test read priv key from list\n",
    "coins[ETH][0]['privkey']"
   ]
  },
  {
   "cell_type": "code",
   "execution_count": 9,
   "id": "058d9776-5f09-4a42-80c4-db58eb14b104",
   "metadata": {
    "tags": []
   },
   "outputs": [],
   "source": [
    "# Create a function called `priv_key_to_account` that converts privkey strings to account objects.\n",
    "from bit import wif_to_key\n",
    "from web3 import Web3\n",
    "w3 = Web3(Web3.HTTPProvider(\"http://127.0.0.1:8545\"))\n",
    "from web3.middleware import geth_poa_middleware\n",
    "from eth_account import Account"
   ]
  },
  {
   "cell_type": "code",
   "execution_count": 10,
   "id": "96035a54-cae8-40f5-bb92-16edd8e0371c",
   "metadata": {
    "tags": []
   },
   "outputs": [],
   "source": [
    "def priv_key_to_account(coin, priv_key):\n",
    "    if coin==ETH:\n",
    "        return Account.privateKeyToAccount(priv_key)\n",
    "    elif coin==BTCTEST:\n",
    "        return PrivateKeyTestnet(priv_key)"
   ]
  },
  {
   "cell_type": "code",
   "execution_count": 11,
   "id": "ba9dc013-0de8-434c-9737-f0b2bdc0f6b3",
   "metadata": {},
   "outputs": [
    {
     "name": "stdout",
     "output_type": "stream",
     "text": [
      "<eth_account.signers.local.LocalAccount object at 0x000001E9E582B208>\n"
     ]
    }
   ],
   "source": [
    "#Test code for priv_key_to_account\n",
    "print(priv_key_to_account(ETH,priv_key='0x356c8dd425cf9714114bf73751c13d1ad34f4012e2ac37e564b0aaee238a0d2a'))"
   ]
  },
  {
   "cell_type": "code",
   "execution_count": 12,
   "id": "6234a2dd-e250-4253-a5b5-1b30930fc2c6",
   "metadata": {},
   "outputs": [
    {
     "data": {
      "text/plain": [
       "160.49188926"
      ]
     },
     "execution_count": 12,
     "metadata": {},
     "output_type": "execute_result"
    }
   ],
   "source": [
    "# Test get balance ETH\n",
    "\n",
    "w3.eth.getBalance('0x7A657838206E12be0b9d7273daB6189c9495b67f')/10**18   #from Ganache test account"
   ]
  },
  {
   "cell_type": "code",
   "execution_count": 13,
   "id": "185e192c-323e-425a-bf1a-7182d86ccb5a",
   "metadata": {},
   "outputs": [],
   "source": [
    "# Test get balance BTCTEST\n",
    "\n",
    "# quick using blockchain explorer i.e. https://www.blockchain.com/btc-testnet/address/mtgb9hthmFpY1zidrYmZ24eTF87aBA147h"
   ]
  },
  {
   "cell_type": "code",
   "execution_count": 14,
   "id": "1f611807-f25e-48a4-9642-f15f708812f4",
   "metadata": {},
   "outputs": [],
   "source": [
    "#Test code for create_tx\n",
    "\n",
    "account_from = priv_key_to_account(ETH,priv_key='555be89f886fd02256133e8a1091ca10d77c86624eb8a3884df5c639fb05a6ca') #Ganache test account"
   ]
  },
  {
   "cell_type": "code",
   "execution_count": 15,
   "id": "7b233876-7f12-4646-858d-95d8250e400a",
   "metadata": {
    "tags": []
   },
   "outputs": [],
   "source": [
    "# Create a function called `create_tx` that creates an unsigned transaction appropriate metadata.\n",
    "\n",
    "def create_tx(coin, account, recipient, amount):\n",
    "    \n",
    "    gasEstimate = w3.eth.estimateGas({\"from\":account.address,\"to\":recipient,\"value\":amount})\n",
    "\n",
    "    if coin==ETH:\n",
    "        return {\n",
    "        \"from\": account.address,\n",
    "        \"to\": recipient,\n",
    "        \"value\": amount,\n",
    "        \"gasPrice\": w3.eth.gasPrice,\n",
    "        \"gas\": gasEstimate,\n",
    "        \"nonce\": w3.eth.getTransactionCount(account.address),\n",
    "        \"chainId\": w3.eth.chain_id,\n",
    "        }\n",
    "    elif coin==BTCTEST:\n",
    "        return PrivateKeyTestnet.prepare_transaction(account.address, [(to, amount, BTC)])\n",
    "      \n",
    "# amount for ETH in wei, BTC in satoshi"
   ]
  },
  {
   "cell_type": "code",
   "execution_count": 16,
   "id": "842c23ea-552f-4a4a-8575-9f1056c601ef",
   "metadata": {},
   "outputs": [
    {
     "data": {
      "text/plain": [
       "'0x15bC593a4ea1503c5f612C85AC338411Eaa4970f'"
      ]
     },
     "execution_count": 16,
     "metadata": {},
     "output_type": "execute_result"
    }
   ],
   "source": [
    "# Test - check account address\n",
    "\n",
    "account_from.address"
   ]
  },
  {
   "cell_type": "code",
   "execution_count": 17,
   "id": "fd0df9ff-43ef-4cd3-a02c-c80ea0d07c38",
   "metadata": {},
   "outputs": [
    {
     "data": {
      "text/plain": [
       "{'from': '0x15bC593a4ea1503c5f612C85AC338411Eaa4970f',\n",
       " 'to': '0x3De0A2fD4A90f9A160ebb2B8711192D1F0eB339D',\n",
       " 'value': 5,\n",
       " 'gasPrice': 20000000000,\n",
       " 'gas': 21000,\n",
       " 'nonce': 9,\n",
       " 'chainId': 1337}"
      ]
     },
     "execution_count": 17,
     "metadata": {},
     "output_type": "execute_result"
    }
   ],
   "source": [
    "# Test create transaction\n",
    "\n",
    "create_tx(ETH, account_from, '0x3De0A2fD4A90f9A160ebb2B8711192D1F0eB339D', 5)"
   ]
  },
  {
   "cell_type": "code",
   "execution_count": 18,
   "id": "6d3508d0-6b14-420a-b4fc-af067bb58395",
   "metadata": {
    "tags": []
   },
   "outputs": [],
   "source": [
    "# Create a function called `send_tx` that calls `create_tx`, signs and sends the transaction.\n",
    "def send_tx(coin, account, recipient, amount):\n",
    "    if coin == ETH:\n",
    "        tx = create_tx(coin, account, recipient, amount)\n",
    "        signed_tx = account.sign_transaction(tx)\n",
    "        result = w3.eth.sendRawTransaction(signed_tx.rawTransaction)\n",
    "    elif coin == BTC:\n",
    "        tx = create_tx(coin, account, recipient, amount)\n",
    "        signed_tx = account.sign_transaction(tx)\n",
    "        result = NetworkAPI.broadcast_tx_testnet(signed)\n",
    "    return result.hex()"
   ]
  },
  {
   "cell_type": "code",
   "execution_count": 19,
   "id": "75c155b3-b1d2-42d2-b391-805141317ab3",
   "metadata": {},
   "outputs": [
    {
     "data": {
      "text/plain": [
       "'0xdefbb1ae887aaa0f6396494dc518db78710f297fc1301d947e9e18007bb47ea4'"
      ]
     },
     "execution_count": 19,
     "metadata": {},
     "output_type": "execute_result"
    }
   ],
   "source": [
    "# Test send_tx (include tx signature)\n",
    "\n",
    "send_tx(ETH, account_from, '0x7A657838206E12be0b9d7273daB6189c9495b67f', 5*10**17)  # test accounts on Ganache"
   ]
  },
  {
   "cell_type": "code",
   "execution_count": null,
   "id": "5751578d-685d-4b10-8a82-e5e3432f7f0d",
   "metadata": {},
   "outputs": [],
   "source": []
  },
  {
   "cell_type": "code",
   "execution_count": null,
   "id": "6e72b5b7-7ec0-48e1-ad96-6ac471fc2054",
   "metadata": {},
   "outputs": [],
   "source": []
  },
  {
   "cell_type": "code",
   "execution_count": null,
   "id": "3fddba83-98e5-4824-b097-93d70b4ffa08",
   "metadata": {},
   "outputs": [],
   "source": []
  }
 ],
 "metadata": {
  "kernelspec": {
   "display_name": "Python 3",
   "language": "python",
   "name": "python3"
  },
  "language_info": {
   "codemirror_mode": {
    "name": "ipython",
    "version": 3
   },
   "file_extension": ".py",
   "mimetype": "text/x-python",
   "name": "python",
   "nbconvert_exporter": "python",
   "pygments_lexer": "ipython3",
   "version": "3.7.10"
  }
 },
 "nbformat": 4,
 "nbformat_minor": 5
}
